{
 "cells": [
  {
   "cell_type": "code",
   "execution_count": 2,
   "metadata": {},
   "outputs": [
    {
     "data": {
      "text/plain": [
       "dict_items([('dark', 'Valor'), ('milk', 'Nestle'), ('semi sweet', 'Lindt')])"
      ]
     },
     "execution_count": 2,
     "metadata": {},
     "output_type": "execute_result"
    }
   ],
   "source": [
    "chocs_and_brands = {'dark': 'Valor', 'milk': 'Nestle', 'semi sweet': 'Lindt'}\n",
    "\n",
    "chocs_and_brands.items()"
   ]
  },
  {
   "cell_type": "code",
   "execution_count": 5,
   "metadata": {},
   "outputs": [
    {
     "name": "stdout",
     "output_type": "stream",
     "text": [
      "dict_keys(['dark', 'milk', 'semi sweet'])\n",
      "dict_values(['Valor', 'Nestle', 'Lindt'])\n"
     ]
    }
   ],
   "source": [
    "chocs_and_brands[\"milk\"]\n",
    "print(chocs_and_brands.keys())\n",
    "print(chocs_and_brands.values())"
   ]
  },
  {
   "cell_type": "code",
   "execution_count": 6,
   "metadata": {},
   "outputs": [
    {
     "data": {
      "text/plain": [
       "{'milk': 'Nestle', 'semi sweet': 'Lindt'}"
      ]
     },
     "execution_count": 6,
     "metadata": {},
     "output_type": "execute_result"
    }
   ],
   "source": [
    "del chocs_and_brands[\"dark\"]\n",
    "chocs_and_brands"
   ]
  },
  {
   "cell_type": "code",
   "execution_count": 8,
   "metadata": {},
   "outputs": [
    {
     "data": {
      "text/plain": [
       "{'milk': 'Nestle', 'semi sweet': 'Lindt', 'dark': 'bounty'}"
      ]
     },
     "execution_count": 8,
     "metadata": {},
     "output_type": "execute_result"
    }
   ],
   "source": [
    "chocs_and_brands[\"dark\"]=\"bounty\"\n",
    "chocs_and_brands"
   ]
  },
  {
   "cell_type": "code",
   "execution_count": 9,
   "metadata": {},
   "outputs": [
    {
     "data": {
      "text/plain": [
       "{'milk': 'Nestle', 'semi sweet': 'Lindt', 'dark': 'mars'}"
      ]
     },
     "execution_count": 9,
     "metadata": {},
     "output_type": "execute_result"
    }
   ],
   "source": [
    "chocs_and_brands[\"dark\"]=\"mars\"\n",
    "chocs_and_brands"
   ]
  },
  {
   "cell_type": "code",
   "execution_count": 10,
   "metadata": {},
   "outputs": [
    {
     "name": "stdout",
     "output_type": "stream",
     "text": [
      "('milk', 'Nestle')\n",
      "('semi sweet', 'Lindt')\n",
      "('dark', 'mars')\n"
     ]
    }
   ],
   "source": [
    "for i in chocs_and_brands.items():\n",
    "    print(i)"
   ]
  },
  {
   "cell_type": "code",
   "execution_count": 13,
   "metadata": {},
   "outputs": [
    {
     "name": "stdout",
     "output_type": "stream",
     "text": [
      "the best brand for milk is Nestle\n",
      "the best brand for semi sweet is Lindt\n",
      "the best brand for dark is mars\n",
      "the best brand for milk is Nestle\n",
      "the best brand for semi sweet is Lindt\n",
      "the best brand for dark is mars\n"
     ]
    }
   ],
   "source": [
    "for chocolate_type, brand in chocs_and_brands.items():\n",
    "    print(f\"the best brand for {chocolate_type} is {brand}\")\n",
    "    \n",
    "## The format \"f\" above allows to enter the name of a variable in {} instead of commas => same as:\n",
    "\n",
    "for chocolate_type, brand in chocs_and_brands.items():\n",
    "    print(\"the best brand for\", chocolate_type, \"is\", brand)"
   ]
  },
  {
   "cell_type": "code",
   "execution_count": 20,
   "metadata": {
    "scrolled": true
   },
   "outputs": [
    {
     "name": "stdout",
     "output_type": "stream",
     "text": [
      "[0, 1, 1, 2, 3, 5, 8, 13, 21, 34, 55, 89, 144, 233, 377, 610, 987, 1597, 2584, 4181, 6765, 10946, 17711, 28657, 46368, 75025, 121393, 196418, 317811, 514229, 832040, 1346269, 2178309, 3524578, 5702887, 9227465, 14930352, 24157817, 39088169, 63245986, 102334155, 165580141, 267914296, 433494437, 701408733, 1134903170, 1836311903, 2971215073, 4807526976, 7778742049, 12586269025, 20365011074, 32951280099, 53316291173, 86267571272, 139583862445, 225851433717, 365435296162, 591286729879, 956722026041, 1548008755920, 2504730781961, 4052739537881, 6557470319842, 10610209857723, 17167680177565, 27777890035288, 44945570212853, 72723460248141, 117669030460994, 190392490709135, 308061521170129, 498454011879264, 806515533049393, 1304969544928657, 2111485077978050, 3416454622906707, 5527939700884757, 8944394323791464, 14472334024676221, 23416728348467685, 37889062373143906, 61305790721611591, 99194853094755497, 160500643816367088, 259695496911122585, 420196140727489673, 679891637638612258, 1100087778366101931, 1779979416004714189, 2880067194370816120, 4660046610375530309, 7540113804746346429, 12200160415121876738, 19740274219868223167, 31940434634990099905, 51680708854858323072, 83621143489848422977, 135301852344706746049, 218922995834555169026]\n"
     ]
    },
    {
     "data": {
      "text/plain": [
       "100"
      ]
     },
     "execution_count": 20,
     "metadata": {},
     "output_type": "execute_result"
    }
   ],
   "source": [
    "# Needs better understanding\n",
    "\n",
    "fib=[0,1]\n",
    "for i in range(98):\n",
    "    fib.append(fib[-1]+fib[-2])\n",
    "print(fib)\n",
    "\n",
    "len(fib)"
   ]
  },
  {
   "cell_type": "code",
   "execution_count": 21,
   "metadata": {},
   "outputs": [
    {
     "name": "stdout",
     "output_type": "stream",
     "text": [
      "[0, 1, 1, 3, 5, 8, 21, 34, 55, 144, 233, 377, 987, 1597, 2584, 6765, 10946, 17711, 46368, 75025, 121393, 317811, 514229, 832040, 2178309, 3524578, 5702887, 14930352, 24157817, 39088169, 102334155, 165580141, 267914296, 701408733, 1134903170, 1836311903, 4807526976, 7778742049, 12586269025, 32951280099, 53316291173, 86267571272, 225851433717, 365435296162, 591286729879, 1548008755920, 2504730781961, 4052739537881, 10610209857723, 17167680177565, 27777890035288, 72723460248141, 117669030460994, 190392490709135, 498454011879264, 806515533049393, 1304969544928657, 3416454622906707, 5527939700884757, 8944394323791464, 23416728348467685, 37889062373143906, 61305790721611591, 160500643816367088, 259695496911122585, 420196140727489673, 1100087778366101931, 1779979416004714189, 2880067194370816120, 7540113804746346429, 12200160415121876738, 19740274219868223167, 51680708854858323072, 83621143489848422977, 135301852344706746049]\n"
     ]
    },
    {
     "data": {
      "text/plain": [
       "75"
      ]
     },
     "execution_count": 21,
     "metadata": {},
     "output_type": "execute_result"
    }
   ],
   "source": [
    "del fib[3::4]\n",
    "print(fib)\n",
    "len(fib)"
   ]
  },
  {
   "cell_type": "code",
   "execution_count": 22,
   "metadata": {},
   "outputs": [
    {
     "name": "stdout",
     "output_type": "stream",
     "text": [
      "(0, 1, 1, 3, 5, 8, 21, 34, 55, 144, 233, 377, 987, 1597, 2584, 6765, 10946, 17711, 46368, 75025, 121393, 317811, 514229, 832040, 2178309, 3524578, 5702887, 14930352, 24157817, 39088169, 102334155, 165580141, 267914296, 701408733, 1134903170, 1836311903, 4807526976, 7778742049, 12586269025, 32951280099, 53316291173, 86267571272, 225851433717, 365435296162, 591286729879, 1548008755920, 2504730781961, 4052739537881, 10610209857723, 17167680177565, 27777890035288, 72723460248141, 117669030460994, 190392490709135, 498454011879264, 806515533049393, 1304969544928657, 3416454622906707, 5527939700884757, 8944394323791464, 23416728348467685, 37889062373143906, 61305790721611591, 160500643816367088, 259695496911122585, 420196140727489673, 1100087778366101931, 1779979416004714189, 2880067194370816120, 7540113804746346429, 12200160415121876738, 19740274219868223167, 51680708854858323072, 83621143489848422977, 135301852344706746049)\n"
     ]
    }
   ],
   "source": [
    "print(tuple(fib))"
   ]
  },
  {
   "cell_type": "code",
   "execution_count": 25,
   "metadata": {},
   "outputs": [
    {
     "name": "stdout",
     "output_type": "stream",
     "text": [
      "{0, 1, 1134903170, 3, 5, 2178309, 12200160415121876738, 8, 2504730781961, 420196140727489673, 190392490709135, 144, 75025, 1304969544928657, 21, 5527939700884757, 591286729879, 2584, 259695496911122585, 51680708854858323072, 17167680177565, 46368, 7778742049, 34, 365435296162, 2880067194370816120, 832040, 39088169, 1100087778366101931, 17711, 14930352, 121393, 806515533049393, 514229, 55, 267914296, 10610209857723, 1597, 4807526976, 7540113804746346429, 10946, 117669030460994, 61305790721611591, 86267571272, 19740274219868223167, 102334155, 72723460248141, 1779979416004714189, 1548008755920, 24157817, 3416454622906707, 27777890035288, 4052739537881, 987, 701408733, 1836311903, 498454011879264, 12586269025, 3524578, 32951280099, 37889062373143906, 53316291173, 23416728348467685, 5702887, 8944394323791464, 233, 83621143489848422977, 6765, 165580141, 160500643816367088, 317811, 225851433717, 377, 135301852344706746049}\n",
      "74\n"
     ]
    }
   ],
   "source": [
    "print(set(fib))\n",
    "\n",
    "print(len(set(fib)))\n",
    "\n",
    "# set contains only unique values => that's why 74 not 75 elements"
   ]
  },
  {
   "cell_type": "code",
   "execution_count": 28,
   "metadata": {},
   "outputs": [
    {
     "name": "stdout",
     "output_type": "stream",
     "text": [
      "{1, 2, 3, 4}\n",
      "{2, 3}\n"
     ]
    }
   ],
   "source": [
    "s1 = {1,2,3}\n",
    "s2 = {2,3,4}\n",
    "\n",
    "print(s1|s2)\n",
    "\n",
    "print(s1&s2)"
   ]
  },
  {
   "cell_type": "code",
   "execution_count": 29,
   "metadata": {},
   "outputs": [
    {
     "data": {
      "text/plain": [
       "{4}"
      ]
     },
     "execution_count": 29,
     "metadata": {},
     "output_type": "execute_result"
    }
   ],
   "source": [
    "# come back to this\n",
    "s3 = s2-s1\n",
    "s3"
   ]
  },
  {
   "cell_type": "code",
   "execution_count": 30,
   "metadata": {},
   "outputs": [
    {
     "data": {
      "text/plain": [
       "{1}"
      ]
     },
     "execution_count": 30,
     "metadata": {},
     "output_type": "execute_result"
    }
   ],
   "source": [
    "# come back to this\n",
    "s4 = s1 - s2\n",
    "s4"
   ]
  },
  {
   "cell_type": "code",
   "execution_count": 31,
   "metadata": {},
   "outputs": [
    {
     "data": {
      "text/plain": [
       "{1, 2, 3, 4}"
      ]
     },
     "execution_count": 31,
     "metadata": {},
     "output_type": "execute_result"
    }
   ],
   "source": [
    "s5 = s1|s2\n",
    "s5"
   ]
  },
  {
   "cell_type": "code",
   "execution_count": 32,
   "metadata": {},
   "outputs": [
    {
     "data": {
      "text/plain": [
       "set()"
      ]
     },
     "execution_count": 32,
     "metadata": {},
     "output_type": "execute_result"
    }
   ],
   "source": [
    "s1-s5"
   ]
  },
  {
   "cell_type": "code",
   "execution_count": 43,
   "metadata": {},
   "outputs": [
    {
     "name": "stdout",
     "output_type": "stream",
     "text": [
      "{'t', 'z', 'q', 'x', 'j', 'r', 'y', 'c', 'k', 'o', 'm', 'h', 'l', 'b', 's', 'g', 'a', 'p', 'n', ' ', 'e', 'u', 'f', 'v', 'i', 'd', 'w'}\n",
      "{'h', 'o', 't', 'n', ' ', 'e', 'b', 'i', 'g', 'a', 'r', 'y'}\n"
     ]
    }
   ],
   "source": [
    "# come back to this\n",
    "\n",
    "ss1=set(\"The quick brown fox jumps over the lazy dog\".lower())\n",
    "ss2=set(\"Big bang theory\".lower())\n",
    "\n",
    "print(ss1)\n",
    "print(ss2)"
   ]
  },
  {
   "cell_type": "code",
   "execution_count": 44,
   "metadata": {},
   "outputs": [
    {
     "data": {
      "text/plain": [
       "{'c', 'd', 'f', 'j', 'k', 'l', 'm', 'p', 'q', 's', 'u', 'v', 'w', 'x', 'z'}"
      ]
     },
     "execution_count": 44,
     "metadata": {},
     "output_type": "execute_result"
    }
   ],
   "source": [
    "ss1 - ss2"
   ]
  },
  {
   "cell_type": "code",
   "execution_count": 45,
   "metadata": {},
   "outputs": [
    {
     "data": {
      "text/plain": [
       "{' ', 'a', 'b', 'e', 'g', 'h', 'i', 'n', 'o', 'r', 't', 'y'}"
      ]
     },
     "execution_count": 45,
     "metadata": {},
     "output_type": "execute_result"
    }
   ],
   "source": [
    "ss1&ss2"
   ]
  },
  {
   "cell_type": "code",
   "execution_count": 46,
   "metadata": {},
   "outputs": [
    {
     "data": {
      "text/plain": [
       "{' ',\n",
       " 'a',\n",
       " 'b',\n",
       " 'c',\n",
       " 'd',\n",
       " 'e',\n",
       " 'f',\n",
       " 'g',\n",
       " 'h',\n",
       " 'i',\n",
       " 'j',\n",
       " 'k',\n",
       " 'l',\n",
       " 'm',\n",
       " 'n',\n",
       " 'o',\n",
       " 'p',\n",
       " 'q',\n",
       " 'r',\n",
       " 's',\n",
       " 't',\n",
       " 'u',\n",
       " 'v',\n",
       " 'w',\n",
       " 'x',\n",
       " 'y',\n",
       " 'z'}"
      ]
     },
     "execution_count": 46,
     "metadata": {},
     "output_type": "execute_result"
    }
   ],
   "source": [
    "ss1|ss2"
   ]
  },
  {
   "cell_type": "code",
   "execution_count": 49,
   "metadata": {},
   "outputs": [
    {
     "data": {
      "text/plain": [
       "{'milk': 'Nestle', 'semi sweet': 'Lindt', 'dark': 'mars'}"
      ]
     },
     "execution_count": 49,
     "metadata": {},
     "output_type": "execute_result"
    }
   ],
   "source": [
    "chocs_and_brands\n"
   ]
  },
  {
   "cell_type": "markdown",
   "metadata": {},
   "source": [
    "1. lower case everything\n",
    "2. instead of words we need a set of letters"
   ]
  },
  {
   "cell_type": "code",
   "execution_count": 50,
   "metadata": {},
   "outputs": [
    {
     "data": {
      "text/plain": [
       "{'milk': {'e', 'l', 'n', 's', 't'},\n",
       " 'semi sweet': {'d', 'i', 'l', 'n', 't'},\n",
       " 'dark': {'a', 'm', 'r', 's'}}"
      ]
     },
     "execution_count": 50,
     "metadata": {},
     "output_type": "execute_result"
    }
   ],
   "source": [
    "{i.lower():set(j.lower()) for i,j in chocs_and_brands.items()}"
   ]
  },
  {
   "cell_type": "markdown",
   "metadata": {},
   "source": [
    "# Strings"
   ]
  },
  {
   "cell_type": "code",
   "execution_count": 53,
   "metadata": {},
   "outputs": [
    {
     "name": "stdout",
     "output_type": "stream",
     "text": [
      " I don't like bananas\n"
     ]
    },
    {
     "data": {
      "text/plain": [
       "\"I don't like bananas\""
      ]
     },
     "execution_count": 53,
     "metadata": {},
     "output_type": "execute_result"
    }
   ],
   "source": [
    "words = [\"I\",\"don't\",\"like\",\"bananas\"]\n",
    "\n",
    "s=\"\"\n",
    "for i in words:\n",
    "    s+=\" \"+i\n",
    "print(s)\n",
    "\n",
    "# same as:\n",
    "\n",
    "\" \".join(words)"
   ]
  },
  {
   "cell_type": "code",
   "execution_count": 60,
   "metadata": {},
   "outputs": [],
   "source": [
    "sentence = \"Freds friends fried fritos for Fridays food.\""
   ]
  },
  {
   "cell_type": "code",
   "execution_count": 61,
   "metadata": {},
   "outputs": [
    {
     "name": "stdout",
     "output_type": "stream",
     "text": [
      "['Freds friends ', ' fritos for Fridays food.']\n",
      "['Freds', 'friends', 'fried', 'fritos', 'for', 'Fridays', 'food.']\n"
     ]
    }
   ],
   "source": [
    "print(sentence.split(\"fried\"))\n",
    "\n",
    "print(sentence.split())"
   ]
  },
  {
   "cell_type": "code",
   "execution_count": 62,
   "metadata": {},
   "outputs": [
    {
     "data": {
      "text/plain": [
       "['Freds', 'Fridays']"
      ]
     },
     "execution_count": 62,
     "metadata": {},
     "output_type": "execute_result"
    }
   ],
   "source": [
    "f = sentence.split()\n",
    "\n",
    "[i for i in f if i.startswith(\"F\")]"
   ]
  },
  {
   "cell_type": "code",
   "execution_count": 67,
   "metadata": {},
   "outputs": [
    {
     "data": {
      "text/plain": [
       "True"
      ]
     },
     "execution_count": 67,
     "metadata": {},
     "output_type": "execute_result"
    }
   ],
   "source": [
    "\"l\" in sentence\n",
    "\"f\" in sentence\n",
    "\"F\" in sentence\n",
    "\"friends\" in sentence \n",
    "\"friends f\" in sentence "
   ]
  },
  {
   "cell_type": "code",
   "execution_count": 68,
   "metadata": {},
   "outputs": [
    {
     "data": {
      "text/plain": [
       "'Freds hands fried fritos for Fridays food.'"
      ]
     },
     "execution_count": 68,
     "metadata": {},
     "output_type": "execute_result"
    }
   ],
   "source": [
    "sentence.replace(\"friends\",\"hands\")\n",
    "\n",
    "# does not replace the word permanently => must be added to a variable"
   ]
  },
  {
   "cell_type": "code",
   "execution_count": 70,
   "metadata": {},
   "outputs": [
    {
     "data": {
      "text/plain": [
       "'Freds riends fried fritos for Fridays food.'"
      ]
     },
     "execution_count": 70,
     "metadata": {},
     "output_type": "execute_result"
    }
   ],
   "source": [
    "sentence.replace(\"f\",\"\")\n",
    "sentence.replace(\"f\",\"\",1)"
   ]
  },
  {
   "cell_type": "code",
   "execution_count": 79,
   "metadata": {},
   "outputs": [
    {
     "data": {
      "text/plain": [
       "'Freds friends fried fritos for fridays food.'"
      ]
     },
     "execution_count": 79,
     "metadata": {},
     "output_type": "execute_result"
    }
   ],
   "source": [
    "sentence.upper()\n",
    "sentence.lower()\n",
    "sentence.title()\n",
    "sentence.capitalize()"
   ]
  },
  {
   "cell_type": "code",
   "execution_count": 80,
   "metadata": {},
   "outputs": [],
   "source": [
    "encrypted_text = \"GFS WMY OG LGDVS MF SFNKYHOSU ESLLMRS, PC WS BFGW POL DMFRQMRS, PL OG CPFU M UPCCSKSFO HDMPFOSXO GC OIS LMES DMFRQMRS DGFR SFGQRI OG CPDD GFS LISSO GK LG, MFU OISF WS NGQFO OIS GNNQKKSFNSL GC SMNI DSOOSK. WS NMDD OIS EGLO CKSJQSFODY GNNQKKPFR DSOOSK OIS 'CPKLO', OIS FSXO EGLO GNNQKKPFR DSOOSK OIS 'LSNGFU' OIS CGDDGWPFR EGLO GNNQKKPFR DSOOSK OIS 'OIPKU', MFU LG GF, QFOPD WS MNNGQFO CGK MDD OIS UPCCSKSFO DSOOSKL PF OIS HDMPFOSXO LMEHDS. OISF WS DGGB MO OIS NPHISK OSXO WS WMFO OG LGDVS MFU WS MDLG NDMLLPCY POL LYEAGDL. WS CPFU OIS EGLO GNNQKKPFR LYEAGD MFU NIMFRS PO OG OIS CGKE GC OIS 'CPKLO' DSOOSK GC OIS HDMPFOSXO LMEHDS, OIS FSXO EGLO NGEEGF LYEAGD PL NIMFRSU OG OIS CGKE GC OIS 'LSNGFU' DSOOSK, MFU OIS CGDDGWPFR EGLO NGEEGF LYEAGD PL NIMFRSU OG OIS CGKE GC OIS 'OIPKU' DSOOSK, MFU LG GF, QFOPD WS MNNGQFO CGK MDD LYEAGDL GC OIS NKYHOGRKME WS WMFO OG LGDVS.\"\n"
   ]
  },
  {
   "cell_type": "markdown",
   "metadata": {},
   "source": [
    "# Text Decryption"
   ]
  },
  {
   "cell_type": "code",
   "execution_count": 81,
   "metadata": {},
   "outputs": [
    {
     "data": {
      "text/plain": [
       "\"GFS WMY OG LGDVS MF SFNKYHOSU ESLLMRS, PC WS BFGW POL DMFRQMRS, PL OG CPFU M UPCCSKSFO HDMPFOSXO GC OIS LMES DMFRQMRS DGFR SFGQRI OG CPDD GFS LISSO GK LG, MFU OISF WS NGQFO OIS GNNQKKSFNSL GC SMNI DSOOSK. WS NMDD OIS EGLO CKSJQSFODY GNNQKKPFR DSOOSK OIS 'CPKLO', OIS FSXO EGLO GNNQKKPFR DSOOSK OIS 'LSNGFU' OIS CGDDGWPFR EGLO GNNQKKPFR DSOOSK OIS 'OIPKU', MFU LG GF, QFOPD WS MNNGQFO CGK MDD OIS UPCCSKSFO DSOOSKL PF OIS HDMPFOSXO LMEHDS. OISF WS DGGB MO OIS NPHISK OSXO WS WMFO OG LGDVS MFU WS MDLG NDMLLPCY POL LYEAGDL. WS CPFU OIS EGLO GNNQKKPFR LYEAGD MFU NIMFRS PO OG OIS CGKE GC OIS 'CPKLO' DSOOSK GC OIS HDMPFOSXO LMEHDS, OIS FSXO EGLO NGEEGF LYEAGD PL NIMFRSU OG OIS CGKE GC OIS 'LSNGFU' DSOOSK, MFU OIS CGDDGWPFR EGLO NGEEGF LYEAGD PL NIMFRSU OG OIS CGKE GC OIS 'OIPKU' DSOOSK, MFU LG GF, QFOPD WS MNNGQFO CGK MDD LYEAGDL GC OIS NKYHOGRKME WS WMFO OG LGDVS.\""
      ]
     },
     "execution_count": 81,
     "metadata": {},
     "output_type": "execute_result"
    }
   ],
   "source": [
    "encrypted_text"
   ]
  },
  {
   "cell_type": "code",
   "execution_count": 82,
   "metadata": {},
   "outputs": [
    {
     "data": {
      "text/plain": [
       "866"
      ]
     },
     "execution_count": 82,
     "metadata": {},
     "output_type": "execute_result"
    }
   ],
   "source": [
    "len(encrypted_text)"
   ]
  },
  {
   "cell_type": "code",
   "execution_count": 83,
   "metadata": {},
   "outputs": [
    {
     "data": {
      "text/plain": [
       "23"
      ]
     },
     "execution_count": 83,
     "metadata": {},
     "output_type": "execute_result"
    }
   ],
   "source": [
    "encrypted_text.count(\"E\")"
   ]
  },
  {
   "cell_type": "code",
   "execution_count": 85,
   "metadata": {},
   "outputs": [
    {
     "data": {
      "text/plain": [
       "{' ',\n",
       " \"'\",\n",
       " ',',\n",
       " '.',\n",
       " 'A',\n",
       " 'B',\n",
       " 'C',\n",
       " 'D',\n",
       " 'E',\n",
       " 'F',\n",
       " 'G',\n",
       " 'H',\n",
       " 'I',\n",
       " 'J',\n",
       " 'K',\n",
       " 'L',\n",
       " 'M',\n",
       " 'N',\n",
       " 'O',\n",
       " 'P',\n",
       " 'Q',\n",
       " 'R',\n",
       " 'S',\n",
       " 'U',\n",
       " 'V',\n",
       " 'W',\n",
       " 'X',\n",
       " 'Y'}"
      ]
     },
     "execution_count": 85,
     "metadata": {},
     "output_type": "execute_result"
    }
   ],
   "source": [
    "set1 = set(encrypted_text)\n",
    "set1"
   ]
  },
  {
   "cell_type": "code",
   "execution_count": 91,
   "metadata": {},
   "outputs": [
    {
     "data": {
      "text/plain": [
       "{'K': 35,\n",
       " 'O': 85,\n",
       " ',': 10,\n",
       " 'F': 51,\n",
       " 'C': 26,\n",
       " 'S': 88,\n",
       " 'D': 42,\n",
       " 'W': 16,\n",
       " 'Q': 14,\n",
       " 'E': 23,\n",
       " 'A': 5,\n",
       " '.': 4,\n",
       " 'H': 8,\n",
       " 'M': 35,\n",
       " 'J': 1,\n",
       " 'U': 17,\n",
       " 'V': 3,\n",
       " 'I': 33,\n",
       " ' ': 158,\n",
       " 'R': 17,\n",
       " \"'\": 12,\n",
       " 'P': 30,\n",
       " 'B': 2,\n",
       " 'N': 29,\n",
       " 'G': 67,\n",
       " 'X': 6,\n",
       " 'Y': 10,\n",
       " 'L': 39}"
      ]
     },
     "execution_count": 91,
     "metadata": {},
     "output_type": "execute_result"
    }
   ],
   "source": [
    "freq = {i:encrypted_text.count(i) for i in set1}\n",
    "freq"
   ]
  },
  {
   "cell_type": "code",
   "execution_count": 88,
   "metadata": {},
   "outputs": [],
   "source": [
    "import operator"
   ]
  },
  {
   "cell_type": "code",
   "execution_count": 90,
   "metadata": {},
   "outputs": [
    {
     "data": {
      "text/plain": [
       "[('J', 1),\n",
       " ('B', 2),\n",
       " ('V', 3),\n",
       " ('.', 4),\n",
       " ('A', 5),\n",
       " ('X', 6),\n",
       " ('H', 8),\n",
       " (',', 10),\n",
       " ('Y', 10),\n",
       " (\"'\", 12),\n",
       " ('Q', 14),\n",
       " ('W', 16),\n",
       " ('U', 17),\n",
       " ('R', 17),\n",
       " ('E', 23),\n",
       " ('C', 26),\n",
       " ('N', 29),\n",
       " ('P', 30),\n",
       " ('I', 33),\n",
       " ('K', 35),\n",
       " ('M', 35),\n",
       " ('L', 39),\n",
       " ('D', 42),\n",
       " ('F', 51),\n",
       " ('G', 67),\n",
       " ('O', 85),\n",
       " ('S', 88),\n",
       " (' ', 158)]"
      ]
     },
     "execution_count": 90,
     "metadata": {},
     "output_type": "execute_result"
    }
   ],
   "source": [
    "sorted_dictionary=sorted(freq.items(),key=operator.itemgetter(1))\n",
    "sorted_dictionary"
   ]
  },
  {
   "cell_type": "code",
   "execution_count": 95,
   "metadata": {},
   "outputs": [
    {
     "data": {
      "text/plain": [
       "\"GFe WMY OG LGDVe MF eFNKYHOeU EeLLMRe, PC We BFGW POL DMFRQMRe, PL OG CPFU M UPCCeKeFO HDMPFOeXO GC Ohe LMEe DMFRQMRe DGFR eFGQRh OG CPDD GFe LheeO GK LG, MFU OheF We NGQFO Ohe GNNQKKeFNeL GC eMNh DeOOeK. We NMDD Ohe EGLO CKeJQeFODY GNNQKKPFR DeOOeK Ohe 'CPKLO', Ohe FeXO EGLO GNNQKKPFR DeOOeK Ohe 'LeNGFU' Ohe CGDDGWPFR EGLO GNNQKKPFR DeOOeK Ohe 'OhPKU', MFU LG GF, QFOPD We MNNGQFO CGK MDD Ohe UPCCeKeFO DeOOeKL PF Ohe HDMPFOeXO LMEHDe. OheF We DGGB MO Ohe NPHheK OeXO We WMFO OG LGDVe MFU We MDLG NDMLLPCY POL LYEAGDL. We CPFU Ohe EGLO GNNQKKPFR LYEAGD MFU NhMFRe PO OG Ohe CGKE GC Ohe 'CPKLO' DeOOeK GC Ohe HDMPFOeXO LMEHDe, Ohe FeXO EGLO NGEEGF LYEAGD PL NhMFReU OG Ohe CGKE GC Ohe 'LeNGFU' DeOOeK, MFU Ohe CGDDGWPFR EGLO NGEEGF LYEAGD PL NhMFReU OG Ohe CGKE GC Ohe 'OhPKU' DeOOeK, MFU LG GF, QFOPD We MNNGQFO CGK MDD LYEAGDL GC Ohe NKYHOGRKME We WMFO OG LGDVe.\""
      ]
     },
     "execution_count": 95,
     "metadata": {},
     "output_type": "execute_result"
    }
   ],
   "source": [
    "text=text.replace(\"S\",\"e\")\n",
    "text"
   ]
  },
  {
   "cell_type": "code",
   "execution_count": 96,
   "metadata": {},
   "outputs": [
    {
     "data": {
      "text/plain": [
       "\"GFe WMY tG LGDVe MF eFNKYHteU EeLLMRe, PC We BFGW PtL DMFRQMRe, PL tG CPFU M UPCCeKeFt HDMPFteXt GC the LMEe DMFRQMRe DGFR eFGQRh tG CPDD GFe Lheet GK LG, MFU theF We NGQFt the GNNQKKeFNeL GC eMNh DetteK. We NMDD the EGLt CKeJQeFtDY GNNQKKPFR DetteK the 'CPKLt', the FeXt EGLt GNNQKKPFR DetteK the 'LeNGFU' the CGDDGWPFR EGLt GNNQKKPFR DetteK the 'thPKU', MFU LG GF, QFtPD We MNNGQFt CGK MDD the UPCCeKeFt DetteKL PF the HDMPFteXt LMEHDe. theF We DGGB Mt the NPHheK teXt We WMFt tG LGDVe MFU We MDLG NDMLLPCY PtL LYEAGDL. We CPFU the EGLt GNNQKKPFR LYEAGD MFU NhMFRe Pt tG the CGKE GC the 'CPKLt' DetteK GC the HDMPFteXt LMEHDe, the FeXt EGLt NGEEGF LYEAGD PL NhMFReU tG the CGKE GC the 'LeNGFU' DetteK, MFU the CGDDGWPFR EGLt NGEEGF LYEAGD PL NhMFReU tG the CGKE GC the 'thPKU' DetteK, MFU LG GF, QFtPD We MNNGQFt CGK MDD LYEAGDL GC the NKYHtGRKME We WMFt tG LGDVe.\""
      ]
     },
     "execution_count": 96,
     "metadata": {},
     "output_type": "execute_result"
    }
   ],
   "source": [
    "text=text.replace(\"O\",\"t\")\n",
    "text"
   ]
  },
  {
   "cell_type": "code",
   "execution_count": 97,
   "metadata": {},
   "outputs": [
    {
     "data": {
      "text/plain": [
       "\"GFe WMY tG LGDVe MF eFNKYHteU EeLLMRe, PC We BFGW PtL DMFRQMRe, PL tG CPFU M UPCCeKeFt HDMPFteXt GC the LMEe DMFRQMRe DGFR eFGQRh tG CPDD GFe Lheet GK LG, MFU theF We NGQFt the GNNQKKeFNeL GC eMNh DetteK. We NMDD the EGLt CKeJQeFtDY GNNQKKPFR DetteK the 'CPKLt', the FeXt EGLt GNNQKKPFR DetteK the 'LeNGFU' the CGDDGWPFR EGLt GNNQKKPFR DetteK the 'thPKU', MFU LG GF, QFtPD We MNNGQFt CGK MDD the UPCCeKeFt DetteKL PF the HDMPFteXt LMEHDe. theF We DGGB Mt the NPHheK teXt We WMFt tG LGDVe MFU We MDLG NDMLLPCY PtL LYEAGDL. We CPFU the EGLt GNNQKKPFR LYEAGD MFU NhMFRe Pt tG the CGKE GC the 'CPKLt' DetteK GC the HDMPFteXt LMEHDe, the FeXt EGLt NGEEGF LYEAGD PL NhMFReU tG the CGKE GC the 'LeNGFU' DetteK, MFU the CGDDGWPFR EGLt NGEEGF LYEAGD PL NhMFReU tG the CGKE GC the 'thPKU' DetteK, MFU LG GF, QFtPD We MNNGQFt CGK MDD LYEAGDL GC the NKYHtGRKME We WMFt tG LGDVe.\""
      ]
     },
     "execution_count": 97,
     "metadata": {},
     "output_type": "execute_result"
    }
   ],
   "source": [
    "text=text.replace(\"I\",\"h\")\n",
    "text"
   ]
  },
  {
   "cell_type": "code",
   "execution_count": 99,
   "metadata": {},
   "outputs": [
    {
     "data": {
      "text/plain": [
       "\"oFe WMY to LoDVe MF eFNKYHteU EeLLMRe, PC We BFoW PtL DMFRQMRe, PL to CPFU M UPCCeKeFt HDMPFteXt oC the LMEe DMFRQMRe DoFR eFoQRh to CPDD oFe Lheet oK Lo, MFU theF We NoQFt the oNNQKKeFNeL oC eMNh DetteK. We NMDD the EoLt CKeJQeFtDY oNNQKKPFR DetteK the 'CPKLt', the FeXt EoLt oNNQKKPFR DetteK the 'LeNoFU' the CoDDoWPFR EoLt oNNQKKPFR DetteK the 'thPKU', MFU Lo oF, QFtPD We MNNoQFt CoK MDD the UPCCeKeFt DetteKL PF the HDMPFteXt LMEHDe. theF We DooB Mt the NPHheK teXt We WMFt to LoDVe MFU We MDLo NDMLLPCY PtL LYEAoDL. We CPFU the EoLt oNNQKKPFR LYEAoD MFU NhMFRe Pt to the CoKE oC the 'CPKLt' DetteK oC the HDMPFteXt LMEHDe, the FeXt EoLt NoEEoF LYEAoD PL NhMFReU to the CoKE oC the 'LeNoFU' DetteK, MFU the CoDDoWPFR EoLt NoEEoF LYEAoD PL NhMFReU to the CoKE oC the 'thPKU' DetteK, MFU Lo oF, QFtPD We MNNoQFt CoK MDD LYEAoDL oC the NKYHtoRKME We WMFt to LoDVe.\""
      ]
     },
     "execution_count": 99,
     "metadata": {},
     "output_type": "execute_result"
    }
   ],
   "source": [
    "text=text.replace(\"G\",\"o\").replace(\"k\",\"r\")\n",
    "text"
   ]
  },
  {
   "cell_type": "code",
   "execution_count": 100,
   "metadata": {},
   "outputs": [
    {
     "data": {
      "text/plain": [
       "\"one WaY to LoDVe an enNKYHteU EeLLaRe, PC We BnoW PtL DanRQaRe, PL to CPnU a UPCCeKent HDaPnteXt oC the LaEe DanRQaRe DonR enoQRh to CPDD one Lheet oK Lo, anU then We NoQnt the oNNQKKenNeL oC eaNh DetteK. We NaDD the EoLt CKeJQentDY oNNQKKPnR DetteK the 'CPKLt', the neXt EoLt oNNQKKPnR DetteK the 'LeNonU' the CoDDoWPnR EoLt oNNQKKPnR DetteK the 'thPKU', anU Lo on, QntPD We aNNoQnt CoK aDD the UPCCeKent DetteKL Pn the HDaPnteXt LaEHDe. then We DooB at the NPHheK teXt We Want to LoDVe anU We aDLo NDaLLPCY PtL LYEAoDL. We CPnU the EoLt oNNQKKPnR LYEAoD anU NhanRe Pt to the CoKE oC the 'CPKLt' DetteK oC the HDaPnteXt LaEHDe, the neXt EoLt NoEEon LYEAoD PL NhanReU to the CoKE oC the 'LeNonU' DetteK, anU the CoDDoWPnR EoLt NoEEon LYEAoD PL NhanReU to the CoKE oC the 'thPKU' DetteK, anU Lo on, QntPD We aNNoQnt CoK aDD LYEAoDL oC the NKYHtoRKaE We Want to LoDVe.\""
      ]
     },
     "execution_count": 100,
     "metadata": {},
     "output_type": "execute_result"
    }
   ],
   "source": [
    "text=text.replace(\"F\",\"n\").replace(\"M\",\"a\")\n",
    "text"
   ]
  },
  {
   "cell_type": "code",
   "execution_count": 101,
   "metadata": {},
   "outputs": [
    {
     "data": {
      "text/plain": [
       "\"one WaY to LolVe an encKYHteU EeLLaRe, PC We BnoW PtL lanRQaRe, PL to CPnU a UPCCeKent HlaPnteXt oC the LaEe lanRQaRe lonR enoQRh to CPll one Lheet oK Lo, anU then We coQnt the occQKKenceL oC each letteK. We call the EoLt CKeJQentlY occQKKPnR letteK the 'CPKLt', the neXt EoLt occQKKPnR letteK the 'LeconU' the ColloWPnR EoLt occQKKPnR letteK the 'thPKU', anU Lo on, QntPl We accoQnt CoK all the UPCCeKent letteKL Pn the HlaPnteXt LaEHle. then We looB at the cPHheK teXt We Want to LolVe anU We alLo claLLPCY PtL LYEAolL. We CPnU the EoLt occQKKPnR LYEAol anU chanRe Pt to the CoKE oC the 'CPKLt' letteK oC the HlaPnteXt LaEHle, the neXt EoLt coEEon LYEAol PL chanReU to the CoKE oC the 'LeconU' letteK, anU the ColloWPnR EoLt coEEon LYEAol PL chanReU to the CoKE oC the 'thPKU' letteK, anU Lo on, QntPl We accoQnt CoK all LYEAolL oC the cKYHtoRKaE We Want to LolVe.\""
      ]
     },
     "execution_count": 101,
     "metadata": {},
     "output_type": "execute_result"
    }
   ],
   "source": [
    "text=text.replace(\"N\",\"c\").replace(\"D\",\"l\")\n",
    "text"
   ]
  },
  {
   "cell_type": "code",
   "execution_count": 102,
   "metadata": {},
   "outputs": [
    {
     "data": {
      "text/plain": [
       "\"one WaY to solVe an encKYHted Eessage, Pf We BnoW Pts langQage, Ps to fPnd a dPffeKent HlaPnteXt of the saEe langQage long enoQgh to fPll one sheet oK so, and then We coQnt the occQKKences of each letteK. We call the Eost fKeJQentlY occQKKPng letteK the 'fPKst', the neXt Eost occQKKPng letteK the 'second' the folloWPng Eost occQKKPng letteK the 'thPKd', and so on, QntPl We accoQnt foK all the dPffeKent letteKs Pn the HlaPnteXt saEHle. then We looB at the cPHheK teXt We Want to solVe and We also classPfY Pts sYEAols. We fPnd the Eost occQKKPng sYEAol and change Pt to the foKE of the 'fPKst' letteK of the HlaPnteXt saEHle, the neXt Eost coEEon sYEAol Ps changed to the foKE of the 'second' letteK, and the folloWPng Eost coEEon sYEAol Ps changed to the foKE of the 'thPKd' letteK, and so on, QntPl We accoQnt foK all sYEAols of the cKYHtogKaE We Want to solVe.\""
      ]
     },
     "execution_count": 102,
     "metadata": {},
     "output_type": "execute_result"
    }
   ],
   "source": [
    "text=text.replace(\"R\",\"g\").replace(\"L\",\"s\").replace(\"C\",\"f\").replace(\"U\",\"d\")\n",
    "text"
   ]
  },
  {
   "cell_type": "code",
   "execution_count": 103,
   "metadata": {},
   "outputs": [
    {
     "data": {
      "text/plain": [
       "\"one WaY to solVe an encKYpted message, if We BnoW its language, is to find a diffeKent plainteXt of the same language long enough to fill one sheet oK so, and then We count the occuKKences of each letteK. We call the most fKeJuentlY occuKKing letteK the 'fiKst', the neXt most occuKKing letteK the 'second' the folloWing most occuKKing letteK the 'thiKd', and so on, until We account foK all the diffeKent letteKs in the plainteXt sample. then We looB at the cipheK teXt We Want to solVe and We also classifY its sYmAols. We find the most occuKKing sYmAol and change it to the foKm of the 'fiKst' letteK of the plainteXt sample, the neXt most common sYmAol is changed to the foKm of the 'second' letteK, and the folloWing most common sYmAol is changed to the foKm of the 'thiKd' letteK, and so on, until We account foK all sYmAols of the cKYptogKam We Want to solVe.\""
      ]
     },
     "execution_count": 103,
     "metadata": {},
     "output_type": "execute_result"
    }
   ],
   "source": [
    "text=text.replace(\"P\",\"i\").replace(\"Q\",\"u\").replace(\"H\",\"p\").replace(\"E\",\"m\")\n",
    "text"
   ]
  },
  {
   "cell_type": "code",
   "execution_count": 107,
   "metadata": {},
   "outputs": [
    {
     "data": {
      "text/plain": [
       "\"one way to solVe an encrypted message, if we Know its language, is to find a different plaintext of the same language long enough to fill one sheet or so, and then we count the occurrences of each letter. we call the most frequently occurring letter the 'first', the next most occurring letter the 'second' the following most occurring letter the 'third', and so on, until we account for all the different letters in the plaintext sample. then we looK at the cipher text we want to solVe and we also classify its symbols. we find the most occurring symbol and change it to the form of the 'first' letter of the plaintext sample, the next most common symbol is changed to the form of the 'second' letter, and the following most common symbol is changed to the form of the 'third' letter, and so on, until we account for all symbols of the cryptogram we want to solVe.\""
      ]
     },
     "execution_count": 107,
     "metadata": {},
     "output_type": "execute_result"
    }
   ],
   "source": [
    "text=text.replace(\"Y\",\"y\").replace(\"A\",\"b\").replace(\"X\",\"x\").replace(\"W\",\"w\").replace(\"K\",\"r\").replace(\"B\",\"K\").replace(\"J\",\"q\")\n",
    "text"
   ]
  },
  {
   "cell_type": "code",
   "execution_count": 108,
   "metadata": {},
   "outputs": [
    {
     "data": {
      "text/plain": [
       "\"one way to solve an encrypted message, if we know its language, is to find a different plaintext of the same language long enough to fill one sheet or so, and then we count the occurrences of each letter. we call the most frequently occurring letter the 'first', the next most occurring letter the 'second' the following most occurring letter the 'third', and so on, until we account for all the different letters in the plaintext sample. then we look at the cipher text we want to solve and we also classify its symbols. we find the most occurring symbol and change it to the form of the 'first' letter of the plaintext sample, the next most common symbol is changed to the form of the 'second' letter, and the following most common symbol is changed to the form of the 'third' letter, and so on, until we account for all symbols of the cryptogram we want to solve.\""
      ]
     },
     "execution_count": 108,
     "metadata": {},
     "output_type": "execute_result"
    }
   ],
   "source": [
    "text=text.replace(\"V\",\"v\").replace(\"K\",\"k\")\n",
    "text"
   ]
  }
 ],
 "metadata": {
  "kernelspec": {
   "display_name": "Python 3",
   "language": "python",
   "name": "python3"
  },
  "language_info": {
   "codemirror_mode": {
    "name": "ipython",
    "version": 3
   },
   "file_extension": ".py",
   "mimetype": "text/x-python",
   "name": "python",
   "nbconvert_exporter": "python",
   "pygments_lexer": "ipython3",
   "version": "3.7.3"
  }
 },
 "nbformat": 4,
 "nbformat_minor": 2
}
