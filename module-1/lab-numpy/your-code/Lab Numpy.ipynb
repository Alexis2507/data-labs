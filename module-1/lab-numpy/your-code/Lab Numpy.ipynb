{
 "cells": [
  {
   "cell_type": "code",
   "execution_count": 53,
   "metadata": {},
   "outputs": [
    {
     "name": "stdout",
     "output_type": "stream",
     "text": [
      "[[[0.53501105 0.86451789 0.58123437 0.81359526 0.9676912 ]\n",
      "  [0.13723113 0.1985766  0.04542361 0.13189318 0.30464957]\n",
      "  [0.75504479 0.03909661 0.84397373 0.16311499 0.47547593]]\n",
      "\n",
      " [[0.66169718 0.39871391 0.06536348 0.45789519 0.58826749]\n",
      "  [0.31769186 0.71016167 0.52773322 0.67486391 0.89646358]\n",
      "  [0.74690743 0.69518159 0.02239032 0.15304138 0.32635141]]]\n"
     ]
    }
   ],
   "source": [
    "#1. Import the NUMPY package under the name np.\n",
    "import numpy as np\n",
    "\n",
    "\n",
    "#2. Print the NUMPY version and the configuration.\n",
    "\n",
    "\n",
    "\n",
    "#3. Generate a 2x3x5 3-dimensional array with random values. Assign the array to variable \"a\"\n",
    "# Challenge: there are at least three easy ways that use numpy to generate random arrays. How many ways can you find?\n",
    "\n",
    "a = np.random.random((2,3,5))\n",
    "\n",
    "#4. Print a.\n",
    "print(a)"
   ]
  },
  {
   "cell_type": "code",
   "execution_count": 54,
   "metadata": {},
   "outputs": [
    {
     "name": "stdout",
     "output_type": "stream",
     "text": [
      "[[[0.79335271 0.25530433 0.16782428]\n",
      "  [0.51804046 0.55492018 0.17596474]]\n",
      "\n",
      " [[0.96507083 0.78442671 0.94385437]\n",
      "  [0.80482596 0.0961426  0.84163862]]\n",
      "\n",
      " [[0.65620123 0.88595378 0.90876579]\n",
      "  [0.76122036 0.31528702 0.59812498]]\n",
      "\n",
      " [[0.32760764 0.43047496 0.19494597]\n",
      "  [0.19339505 0.56071353 0.23107232]]\n",
      "\n",
      " [[0.93674148 0.03413515 0.49281718]\n",
      "  [0.63118339 0.75296632 0.94048132]]]\n",
      "True\n",
      "30\n",
      "30\n"
     ]
    }
   ],
   "source": [
    "#5. Create a 5x2x3 3-dimensional array with all values equaling 1.\n",
    "#Assign the array to variable \"b\"\n",
    "\n",
    "b = np.random.random((5,2,3))\n",
    "print(b)\n",
    "\n",
    "#7. Do a and b have the same size? How do you prove that in Python code?\n",
    "\n",
    "if a.size == b.size:\n",
    "    print(True)\n",
    "\n",
    "print(a.size)\n",
    "print(b.size)"
   ]
  },
  {
   "cell_type": "code",
   "execution_count": 8,
   "metadata": {},
   "outputs": [
    {
     "ename": "ValueError",
     "evalue": "operands could not be broadcast together with shapes (2,3,5) (5,2,3) ",
     "output_type": "error",
     "traceback": [
      "\u001b[1;31m---------------------------------------------------------------------------\u001b[0m",
      "\u001b[1;31mValueError\u001b[0m                                Traceback (most recent call last)",
      "\u001b[1;32m<ipython-input-8-c6690012c644>\u001b[0m in \u001b[0;36m<module>\u001b[1;34m\u001b[0m\n\u001b[0;32m      1\u001b[0m \u001b[1;31m#8. Are you able to add a and b? Why or why not?\u001b[0m\u001b[1;33m\u001b[0m\u001b[1;33m\u001b[0m\u001b[1;33m\u001b[0m\u001b[0m\n\u001b[0;32m      2\u001b[0m \u001b[1;33m\u001b[0m\u001b[0m\n\u001b[1;32m----> 3\u001b[1;33m \u001b[0ma\u001b[0m\u001b[1;33m+\u001b[0m\u001b[0mb\u001b[0m\u001b[1;33m\u001b[0m\u001b[1;33m\u001b[0m\u001b[0m\n\u001b[0m\u001b[0;32m      4\u001b[0m \u001b[1;33m\u001b[0m\u001b[0m\n\u001b[0;32m      5\u001b[0m \u001b[1;31m#9. Transpose b so that it has the same structure of a (i.e. become a 2x3x5 array). Assign the transposed array to varialbe \"c\".\u001b[0m\u001b[1;33m\u001b[0m\u001b[1;33m\u001b[0m\u001b[1;33m\u001b[0m\u001b[0m\n",
      "\u001b[1;31mValueError\u001b[0m: operands could not be broadcast together with shapes (2,3,5) (5,2,3) "
     ]
    }
   ],
   "source": [
    "#8. Are you able to add a and b? Why or why not?\n",
    "a+b\n",
    "#Not possible to sum arrays with different shapes"
   ]
  },
  {
   "cell_type": "code",
   "execution_count": 55,
   "metadata": {},
   "outputs": [
    {
     "name": "stdout",
     "output_type": "stream",
     "text": [
      "[[[0.79335271 0.25530433 0.16782428]\n",
      "  [0.51804046 0.55492018 0.17596474]]\n",
      "\n",
      " [[0.96507083 0.78442671 0.94385437]\n",
      "  [0.80482596 0.0961426  0.84163862]]\n",
      "\n",
      " [[0.65620123 0.88595378 0.90876579]\n",
      "  [0.76122036 0.31528702 0.59812498]]\n",
      "\n",
      " [[0.32760764 0.43047496 0.19494597]\n",
      "  [0.19339505 0.56071353 0.23107232]]\n",
      "\n",
      " [[0.93674148 0.03413515 0.49281718]\n",
      "  [0.63118339 0.75296632 0.94048132]]]\n",
      "(5, 2, 3)\n",
      "[[[0.79335271 0.96507083 0.65620123 0.32760764 0.93674148]\n",
      "  [0.25530433 0.78442671 0.88595378 0.43047496 0.03413515]\n",
      "  [0.16782428 0.94385437 0.90876579 0.19494597 0.49281718]]\n",
      "\n",
      " [[0.51804046 0.80482596 0.76122036 0.19339505 0.63118339]\n",
      "  [0.55492018 0.0961426  0.31528702 0.56071353 0.75296632]\n",
      "  [0.17596474 0.84163862 0.59812498 0.23107232 0.94048132]]]\n",
      "(2, 3, 5)\n",
      "[[[0.79335271 0.96507083 0.65620123 0.32760764 0.93674148]\n",
      "  [0.51804046 0.80482596 0.76122036 0.19339505 0.63118339]]\n",
      "\n",
      " [[0.25530433 0.78442671 0.88595378 0.43047496 0.03413515]\n",
      "  [0.55492018 0.0961426  0.31528702 0.56071353 0.75296632]]\n",
      "\n",
      " [[0.16782428 0.94385437 0.90876579 0.19494597 0.49281718]\n",
      "  [0.17596474 0.84163862 0.59812498 0.23107232 0.94048132]]]\n",
      "(3, 2, 5)\n"
     ]
    }
   ],
   "source": [
    "#9. Transpose b so that it has the same structure of a (i.e. become a 2x3x5 array). Assign the transposed array to varialbe \"c\".\n",
    "#5,2,3:\n",
    "print(b)\n",
    "print(b.shape)\n",
    "\n",
    "#2,3,5:\n",
    "c = b.transpose([1,2,0])\n",
    "print(c)\n",
    "print(c.shape)\n",
    "\n",
    "#3,2,5\n",
    "d = (b.T)\n",
    "print(d)\n",
    "print(d.shape)\n"
   ]
  },
  {
   "cell_type": "code",
   "execution_count": 65,
   "metadata": {},
   "outputs": [
    {
     "name": "stdout",
     "output_type": "stream",
     "text": [
      "a [[[0.53501105 0.86451789 0.58123437 0.81359526 0.9676912 ]\n",
      "  [0.13723113 0.1985766  0.04542361 0.13189318 0.30464957]\n",
      "  [0.75504479 0.03909661 0.84397373 0.16311499 0.47547593]]\n",
      "\n",
      " [[0.66169718 0.39871391 0.06536348 0.45789519 0.58826749]\n",
      "  [0.31769186 0.71016167 0.52773322 0.67486391 0.89646358]\n",
      "  [0.74690743 0.69518159 0.02239032 0.15304138 0.32635141]]]\n",
      "c [[[0.79335271 0.96507083 0.65620123 0.32760764 0.93674148]\n",
      "  [0.25530433 0.78442671 0.88595378 0.43047496 0.03413515]\n",
      "  [0.16782428 0.94385437 0.90876579 0.19494597 0.49281718]]\n",
      "\n",
      " [[0.51804046 0.80482596 0.76122036 0.19339505 0.63118339]\n",
      "  [0.55492018 0.0961426  0.31528702 0.56071353 0.75296632]\n",
      "  [0.17596474 0.84163862 0.59812498 0.23107232 0.94048132]]]\n",
      "True\n",
      "d [[[1.32836377 1.82958872 1.2374356  1.1412029  1.90443268]\n",
      "  [0.39253545 0.98300331 0.93137738 0.56236813 0.33878473]\n",
      "  [0.92286907 0.98295098 1.75273952 0.35806096 0.96829311]]\n",
      "\n",
      " [[1.17973764 1.20353987 0.82658384 0.65129024 1.21945088]\n",
      "  [0.87261205 0.80630427 0.84302024 1.23557744 1.6494299 ]\n",
      "  [0.92287217 1.53682021 0.62051531 0.3841137  1.26683272]]]\n",
      "x [[[1.32836377 1.82958872 1.2374356  1.1412029  1.90443268]\n",
      "  [0.39253545 0.98300331 0.93137738 0.56236813 0.33878473]\n",
      "  [0.92286907 0.98295098 1.75273952 0.35806096 0.96829311]]\n",
      "\n",
      " [[1.17973764 1.20353987 0.82658384 0.65129024 1.21945088]\n",
      "  [0.87261205 0.80630427 0.84302024 1.23557744 1.6494299 ]\n",
      "  [0.92287217 1.53682021 0.62051531 0.3841137  1.26683272]]]\n",
      "1.3283637681995135\n"
     ]
    }
   ],
   "source": [
    "#10. Try to add a and c. Now it should work. Assign the sum to varialbe \"d\". But why does it work now?\n",
    "print(\"a\",a)\n",
    "print(\"c\",c)\n",
    "\n",
    "if a.shape==c.shape:\n",
    "    print(True)\n",
    "    \n",
    "d=a+c\n",
    "print(\"d\",d)\n",
    "\n",
    "# Other formula\n",
    "x=np.add(a,c)\n",
    "print(\"x\",x)\n",
    "\n"
   ]
  },
  {
   "cell_type": "code",
   "execution_count": 57,
   "metadata": {},
   "outputs": [
    {
     "name": "stdout",
     "output_type": "stream",
     "text": [
      "a [[[0.53501105 0.86451789 0.58123437 0.81359526 0.9676912 ]\n",
      "  [0.13723113 0.1985766  0.04542361 0.13189318 0.30464957]\n",
      "  [0.75504479 0.03909661 0.84397373 0.16311499 0.47547593]]\n",
      "\n",
      " [[0.66169718 0.39871391 0.06536348 0.45789519 0.58826749]\n",
      "  [0.31769186 0.71016167 0.52773322 0.67486391 0.89646358]\n",
      "  [0.74690743 0.69518159 0.02239032 0.15304138 0.32635141]]]\n",
      "d [[[1.32836377 1.82958872 1.2374356  1.1412029  1.90443268]\n",
      "  [0.39253545 0.98300331 0.93137738 0.56236813 0.33878473]\n",
      "  [0.92286907 0.98295098 1.75273952 0.35806096 0.96829311]]\n",
      "\n",
      " [[1.17973764 1.20353987 0.82658384 0.65129024 1.21945088]\n",
      "  [0.87261205 0.80630427 0.84302024 1.23557744 1.6494299 ]\n",
      "  [0.92287217 1.53682021 0.62051531 0.3841137  1.26683272]]]\n"
     ]
    }
   ],
   "source": [
    "#11. Print a and d. Notice the difference and relation of the two array in terms of the values? Explain.\n",
    "print\n",
    "\n",
    "print(\"a\",a)\n",
    "print(\"d\",d)\n"
   ]
  },
  {
   "cell_type": "code",
   "execution_count": 69,
   "metadata": {},
   "outputs": [
    {
     "name": "stdout",
     "output_type": "stream",
     "text": [
      "e [[[0.42445247 0.83432099 0.38140671 0.26654002 0.90647649]\n",
      "  [0.0350357  0.15576879 0.04024322 0.05677671 0.01039926]\n",
      "  [0.12671485 0.03690151 0.76697445 0.03179861 0.23432271]]\n",
      "\n",
      " [[0.34278591 0.3208953  0.04975601 0.08855466 0.37130467]\n",
      "  [0.17629363 0.06827679 0.16638743 0.37840533 0.67500689]\n",
      "  [0.13142937 0.58509167 0.01339221 0.03536363 0.3069274 ]]]\n",
      "y [[[0.42445247 0.83432099 0.38140671 0.26654002 0.90647649]\n",
      "  [0.0350357  0.15576879 0.04024322 0.05677671 0.01039926]\n",
      "  [0.12671485 0.03690151 0.76697445 0.03179861 0.23432271]]\n",
      "\n",
      " [[0.34278591 0.3208953  0.04975601 0.08855466 0.37130467]\n",
      "  [0.17629363 0.06827679 0.16638743 0.37840533 0.67500689]\n",
      "  [0.13142937 0.58509167 0.01339221 0.03536363 0.3069274 ]]]\n"
     ]
    }
   ],
   "source": [
    "#12. Multiply a and c. Assign the result to e.\n",
    "\n",
    "e=a*c\n",
    "print(\"e\",e)\n",
    "\n",
    "# Other formula\n",
    "y=np.multiply(a,c)\n",
    "print(\"y\",y)"
   ]
  },
  {
   "cell_type": "code",
   "execution_count": 71,
   "metadata": {},
   "outputs": [
    {
     "name": "stdout",
     "output_type": "stream",
     "text": [
      "a [[[0.53501105 0.86451789 0.58123437 0.81359526 0.9676912 ]\n",
      "  [0.13723113 0.1985766  0.04542361 0.13189318 0.30464957]\n",
      "  [0.75504479 0.03909661 0.84397373 0.16311499 0.47547593]]\n",
      "\n",
      " [[0.66169718 0.39871391 0.06536348 0.45789519 0.58826749]\n",
      "  [0.31769186 0.71016167 0.52773322 0.67486391 0.89646358]\n",
      "  [0.74690743 0.69518159 0.02239032 0.15304138 0.32635141]]]\n",
      "e [[[0.42445247 0.83432099 0.38140671 0.26654002 0.90647649]\n",
      "  [0.0350357  0.15576879 0.04024322 0.05677671 0.01039926]\n",
      "  [0.12671485 0.03690151 0.76697445 0.03179861 0.23432271]]\n",
      "\n",
      " [[0.34278591 0.3208953  0.04975601 0.08855466 0.37130467]\n",
      "  [0.17629363 0.06827679 0.16638743 0.37840533 0.67500689]\n",
      "  [0.13142937 0.58509167 0.01339221 0.03536363 0.3069274 ]]]\n"
     ]
    }
   ],
   "source": [
    "#13. Does e equal to a? Why or why not?\n",
    "print(\"a\",a)\n",
    "print(\"e\",e)"
   ]
  },
  {
   "cell_type": "code",
   "execution_count": 101,
   "metadata": {},
   "outputs": [
    {
     "name": "stdout",
     "output_type": "stream",
     "text": [
      "d [[[1.32836377 1.82958872 1.2374356  1.1412029  1.90443268]\n",
      "  [0.39253545 0.98300331 0.93137738 0.56236813 0.33878473]\n",
      "  [0.92286907 0.98295098 1.75273952 0.35806096 0.96829311]]\n",
      "\n",
      " [[1.17973764 1.20353987 0.82658384 0.65129024 1.21945088]\n",
      "  [0.87261205 0.80630427 0.84302024 1.23557744 1.6494299 ]\n",
      "  [0.92287217 1.53682021 0.62051531 0.3841137  1.26683272]]]\n",
      "0.3387847269920874\n",
      "1.9044326812465924\n",
      "1.0284235597106064\n"
     ]
    }
   ],
   "source": [
    "#14. Identify the max, min, and mean values in d. Assign those values to variables \"d_max\", \"d_min\", and \"d_mean\"\n",
    "print(\"d\",d)\n",
    "d_min=np.amin(d)\n",
    "d_max=np.amax(d)\n",
    "d_mean=np.mean(d)\n",
    "print(d_min)\n",
    "print(d_max)\n",
    "print(d_mean)"
   ]
  },
  {
   "cell_type": "code",
   "execution_count": 92,
   "metadata": {},
   "outputs": [
    {
     "name": "stdout",
     "output_type": "stream",
     "text": [
      "[[[1.32836377 1.82958872 1.2374356  1.1412029  1.90443268]\n",
      "  [0.39253545 0.98300331 0.93137738 0.56236813 0.33878473]\n",
      "  [0.92286907 0.98295098 1.75273952 0.35806096 0.96829311]]\n",
      "\n",
      " [[1.17973764 1.20353987 0.82658384 0.65129024 1.21945088]\n",
      "  [0.87261205 0.80630427 0.84302024 1.23557744 1.6494299 ]\n",
      "  [0.92287217 1.53682021 0.62051531 0.3841137  1.26683272]]]\n"
     ]
    }
   ],
   "source": [
    "#15. Now we want to label the values in d. First create an empty array \"f\" with the same shape (i.e. 2x3x5) as d using `np.empty`.\n",
    "f=np.empty([2,3,5])\n",
    "print(f)"
   ]
  },
  {
   "cell_type": "code",
   "execution_count": 102,
   "metadata": {},
   "outputs": [
    {
     "name": "stdout",
     "output_type": "stream",
     "text": [
      "d [[[1.32836377 1.82958872 1.2374356  1.1412029  1.90443268]\n",
      "  [0.39253545 0.98300331 0.93137738 0.56236813 0.33878473]\n",
      "  [0.92286907 0.98295098 1.75273952 0.35806096 0.96829311]]\n",
      "\n",
      " [[1.17973764 1.20353987 0.82658384 0.65129024 1.21945088]\n",
      "  [0.87261205 0.80630427 0.84302024 1.23557744 1.6494299 ]\n",
      "  [0.92287217 1.53682021 0.62051531 0.3841137  1.26683272]]]\n",
      "f [[[ 75.  75.  75.  75. 100.]\n",
      "  [ 25.  25.  25.  25.   0.]\n",
      "  [ 25.  25.  75.  25.  25.]]\n",
      "\n",
      " [[ 75.  75.  25.  25.  75.]\n",
      "  [ 25.  25.  25.  75.  75.]\n",
      "  [ 25.  75.  25.  25.  75.]]]\n",
      "min 0.3387847269920874\n",
      "max 1.9044326812465924\n",
      "mean 1.0284235597106064\n"
     ]
    }
   ],
   "source": [
    "#16. Populate the values in f. For each value in d, if it's larger than d_min but smaller than d_mean, assign 25 to the corresponding value in f.\n",
    "# If a value in d is larger than d_mean but smaller than d_max, assign 75 to the corresponding value in f.\n",
    "# If a value equals to d_mean, assign 50 to the corresponding value in f.\n",
    "# Assign 0 to the corresponding value(s) in f for d_min in d.\n",
    "# Assign 100 to the corresponding value(s) in f for d_max in d.\n",
    "# In the end, f should have only the following values: 0, 25, 50, 75, and 100.\n",
    "# Note: you dont have to use Numpy in this question.\n",
    "\n",
    "print(\"d\",d)\n",
    "\n",
    "for i in range(2):\n",
    "    for j in range(3):\n",
    "        for k in range(5):\n",
    "            if d_mean < d[i][j][k] < d_max:\n",
    "                f[i][j][k]=75\n",
    "            elif d_min < d[i][j][k] < d_mean:\n",
    "                f[i][j][k]=25\n",
    "            elif d[i][j][k] == d_mean:\n",
    "                f[i][j][k]=50\n",
    "            elif d[i][j][k] == d_min:\n",
    "                f[i][j][k]=0\n",
    "            elif d[i][j][k] == d_max:\n",
    "                f[i][j][k]=100\n",
    "print(\"f\",f)\n",
    "print(\"min\",d_min)\n",
    "print(\"max\",d_max)\n",
    "print(\"mean\",d_mean)\n",
    "                "
   ]
  },
  {
   "cell_type": "code",
   "execution_count": null,
   "metadata": {},
   "outputs": [],
   "source": [
    "#17. Print d and f. Do you have your expected f?\n",
    "For instance, if your d is:\n",
    "array([[[1.85836099, 1.67064465, 1.62576044, 1.40243961, 1.88454931],\n",
    "        [1.75354326, 1.69403643, 1.36729252, 1.61415071, 1.12104981],\n",
    "        [1.72201435, 1.1862918 , 1.87078449, 1.7726778 , 1.88180042]],\n",
    "\n",
    "       [[1.44747908, 1.31673383, 1.02000951, 1.52218947, 1.97066381],\n",
    "        [1.79129243, 1.74983003, 1.96028037, 1.85166831, 1.65450881],\n",
    "        [1.18068344, 1.9587381 , 1.00656599, 1.93402165, 1.73514584]]])\n",
    "\n",
    "Your f should be:\n",
    "array([[[ 75.,  75.,  75.,  25.,  75.],\n",
    "        [ 75.,  75.,  25.,  25.,  25.],\n",
    "        [ 75.,  25.,  75.,  75.,  75.]],\n",
    "\n",
    "       [[ 25.,  25.,  25.,  25., 100.],\n",
    "        [ 75.,  75.,  75.,  75.,  75.],\n",
    "        [ 25.,  75.,   0.,  75.,  75.]]])"
   ]
  },
  {
   "cell_type": "code",
   "execution_count": 108,
   "metadata": {},
   "outputs": [
    {
     "name": "stdout",
     "output_type": "stream",
     "text": [
      "d [[[1.32836377 1.82958872 1.2374356  1.1412029  1.90443268]\n",
      "  [0.39253545 0.98300331 0.93137738 0.56236813 0.33878473]\n",
      "  [0.92286907 0.98295098 1.75273952 0.35806096 0.96829311]]\n",
      "\n",
      " [[1.17973764 1.20353987 0.82658384 0.65129024 1.21945088]\n",
      "  [0.87261205 0.80630427 0.84302024 1.23557744 1.6494299 ]\n",
      "  [0.92287217 1.53682021 0.62051531 0.3841137  1.26683272]]]\n",
      "[[[ 75.  75.  75.  75. 100.]\n",
      "  [ 25.  25.  25.  25.   0.]\n",
      "  [ 25.  25.  75.  25.  25.]]\n",
      "\n",
      " [[ 75.  75.  25.  25.  75.]\n",
      "  [ 25.  25.  25.  75.  75.]\n",
      "  [ 25.  75.  25.  25.  75.]]]\n"
     ]
    },
    {
     "ename": "AttributeError",
     "evalue": "'str' object has no attribute 'append'",
     "output_type": "error",
     "traceback": [
      "\u001b[1;31m---------------------------------------------------------------------------\u001b[0m",
      "\u001b[1;31mAttributeError\u001b[0m                            Traceback (most recent call last)",
      "\u001b[1;32m<ipython-input-108-17d1cee4bd99>\u001b[0m in \u001b[0;36m<module>\u001b[1;34m\u001b[0m\n\u001b[0;32m     18\u001b[0m         \u001b[1;32mfor\u001b[0m \u001b[0mk\u001b[0m \u001b[1;32min\u001b[0m \u001b[0mrange\u001b[0m\u001b[1;33m(\u001b[0m\u001b[1;36m5\u001b[0m\u001b[1;33m)\u001b[0m\u001b[1;33m:\u001b[0m\u001b[1;33m\u001b[0m\u001b[1;33m\u001b[0m\u001b[0m\n\u001b[0;32m     19\u001b[0m             \u001b[1;32mif\u001b[0m \u001b[0md_mean\u001b[0m \u001b[1;33m<\u001b[0m \u001b[0md\u001b[0m\u001b[1;33m[\u001b[0m\u001b[0mi\u001b[0m\u001b[1;33m]\u001b[0m\u001b[1;33m[\u001b[0m\u001b[0mj\u001b[0m\u001b[1;33m]\u001b[0m\u001b[1;33m[\u001b[0m\u001b[0mk\u001b[0m\u001b[1;33m]\u001b[0m \u001b[1;33m<\u001b[0m \u001b[0md_max\u001b[0m\u001b[1;33m:\u001b[0m\u001b[1;33m\u001b[0m\u001b[1;33m\u001b[0m\u001b[0m\n\u001b[1;32m---> 20\u001b[1;33m                 \u001b[0mw\u001b[0m\u001b[1;33m[\u001b[0m\u001b[0mi\u001b[0m\u001b[1;33m]\u001b[0m\u001b[1;33m[\u001b[0m\u001b[0mj\u001b[0m\u001b[1;33m]\u001b[0m\u001b[1;33m[\u001b[0m\u001b[0mk\u001b[0m\u001b[1;33m]\u001b[0m\u001b[1;33m.\u001b[0m\u001b[0mappend\u001b[0m\u001b[1;33m(\u001b[0m\u001b[1;34m\"D\"\u001b[0m\u001b[1;33m)\u001b[0m\u001b[1;33m\u001b[0m\u001b[1;33m\u001b[0m\u001b[0m\n\u001b[0m\u001b[0;32m     21\u001b[0m             \u001b[1;32melif\u001b[0m \u001b[0md_min\u001b[0m \u001b[1;33m<\u001b[0m \u001b[0md\u001b[0m\u001b[1;33m[\u001b[0m\u001b[0mi\u001b[0m\u001b[1;33m]\u001b[0m\u001b[1;33m[\u001b[0m\u001b[0mj\u001b[0m\u001b[1;33m]\u001b[0m\u001b[1;33m[\u001b[0m\u001b[0mk\u001b[0m\u001b[1;33m]\u001b[0m \u001b[1;33m<\u001b[0m \u001b[0md_mean\u001b[0m\u001b[1;33m:\u001b[0m\u001b[1;33m\u001b[0m\u001b[1;33m\u001b[0m\u001b[0m\n\u001b[0;32m     22\u001b[0m                 \u001b[0mw\u001b[0m\u001b[1;33m[\u001b[0m\u001b[0mi\u001b[0m\u001b[1;33m]\u001b[0m\u001b[1;33m[\u001b[0m\u001b[0mj\u001b[0m\u001b[1;33m]\u001b[0m\u001b[1;33m[\u001b[0m\u001b[0mk\u001b[0m\u001b[1;33m]\u001b[0m\u001b[1;33m=\u001b[0m\u001b[1;34m\"B\"\u001b[0m\u001b[1;33m\u001b[0m\u001b[1;33m\u001b[0m\u001b[0m\n",
      "\u001b[1;31mAttributeError\u001b[0m: 'str' object has no attribute 'append'"
     ]
    }
   ],
   "source": [
    "#18. Bonus question: instead of using numbers (i.e. 0, 25, 50, 75, and 100), how to use string values \n",
    "# (\"A\", \"B\", \"C\", \"D\", and \"E\") to label the array elements? You are expecting the result to be:\n",
    "# array([[[ 'D',  'D',  'D',  'B',  'D'],\n",
    "#         [ 'D',  'D',  'B',  'B',  'B'],\n",
    "#         [ 'D',  'B',  'D',  'D',  'D']],\n",
    "\n",
    "#        [[ 'B',  'B',  'B',  'B',  'E'],\n",
    "#         [ 'D',  'D',  'D',  'D',  'D'],\n",
    "#         [ 'B',  'D',   'A',  'D', 'D']]])\n",
    "# Again, you don't need Numpy in this question.\n",
    "\n",
    "print(\"d\",d)\n",
    "\n",
    "w=str(f)\n",
    "print(w)\n",
    "for i in range(2):\n",
    "    for j in range(3):\n",
    "        for k in range(5):\n",
    "            if d_mean < d[i][j][k] < d_max:\n",
    "                w[i][j][k]=\"D\"\n",
    "            elif d_min < d[i][j][k] < d_mean:\n",
    "                w[i][j][k]=\"B\"\n",
    "            elif d[i][j][k] == d_mean:\n",
    "                w[i][j][k]=\"C\"\n",
    "            elif d[i][j][k] == d_min:\n",
    "                w[i][j][k]=\"A\"\n",
    "            elif d[i][j][k] == d_max:\n",
    "                w[i][j][k]=\"E\"\n",
    "print(\"w\",w)\n",
    "print(\"min\",d_min)\n",
    "print(\"max\",d_max)\n",
    "print(\"mean\",d_mean)"
   ]
  }
 ],
 "metadata": {
  "kernelspec": {
   "display_name": "Python 3",
   "language": "python",
   "name": "python3"
  },
  "language_info": {
   "codemirror_mode": {
    "name": "ipython",
    "version": 3
   },
   "file_extension": ".py",
   "mimetype": "text/x-python",
   "name": "python",
   "nbconvert_exporter": "python",
   "pygments_lexer": "ipython3",
   "version": "3.7.3"
  }
 },
 "nbformat": 4,
 "nbformat_minor": 2
}
