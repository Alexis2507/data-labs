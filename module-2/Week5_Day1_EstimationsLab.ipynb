{
 "cells": [
  {
   "cell_type": "markdown",
   "metadata": {},
   "source": [
    "# Estimations Lab"
   ]
  },
  {
   "cell_type": "markdown",
   "metadata": {},
   "source": [
    "Calculate the Mean.\n",
    "A weatherman records the high temperature in Norfolk, Va. for each of the first 7 days of the year. The temperatures (in degrees fahrenheit) are 51, 49, 41, 53, 54, 68, 48. Calculate the average temperature."
   ]
  },
  {
   "cell_type": "code",
   "execution_count": 44,
   "metadata": {},
   "outputs": [
    {
     "data": {
      "text/plain": [
       "52.0"
      ]
     },
     "execution_count": 44,
     "metadata": {},
     "output_type": "execute_result"
    }
   ],
   "source": [
    "import pandas as pd\n",
    "import numpy as np\n",
    "df=pd.DataFrame([51,49,41,53,54,68,48])\n",
    "df[0].mean()"
   ]
  },
  {
   "cell_type": "markdown",
   "metadata": {},
   "source": [
    "A sample consists of four observations: {1, 3, 5, 7}. What is the standard deviation?"
   ]
  },
  {
   "cell_type": "code",
   "execution_count": 45,
   "metadata": {},
   "outputs": [
    {
     "data": {
      "text/plain": [
       "0    2.581989\n",
       "dtype: float64"
      ]
     },
     "execution_count": 45,
     "metadata": {},
     "output_type": "execute_result"
    }
   ],
   "source": [
    "sample=pd.DataFrame([1, 3, 5, 7])\n",
    "sample.std()"
   ]
  },
  {
   "cell_type": "markdown",
   "metadata": {},
   "source": [
    "A sample consists of four observations: {1, 3, 5, 7}. What is the variance?"
   ]
  },
  {
   "cell_type": "code",
   "execution_count": 47,
   "metadata": {},
   "outputs": [
    {
     "data": {
      "text/plain": [
       "0    6.666667\n",
       "dtype: float64"
      ]
     },
     "execution_count": 47,
     "metadata": {},
     "output_type": "execute_result"
    }
   ],
   "source": [
    "sample.var()"
   ]
  },
  {
   "cell_type": "markdown",
   "metadata": {},
   "source": [
    "# Finding Z Scores"
   ]
  },
  {
   "cell_type": "markdown",
   "metadata": {},
   "source": [
    "Every year, 50,000 runners compete in the Peachtree Road Race. They run 10 kilometers (a little over 6 miles).\n",
    "The average finishing time is 55 minutes, with a standard deviation of 10 minutes.\n",
    "Fred and Wilma completed the race in 61 and 51 minutes, respectively. \n",
    "Barney and Betty had finishing times with z-scores of -0.3 and 0.7, respectively.\n",
    "\n",
    "List the runners in order, starting with the fastest runner and ending with the slowest runner."
   ]
  },
  {
   "cell_type": "code",
   "execution_count": 50,
   "metadata": {},
   "outputs": [],
   "source": [
    "average=55\n",
    "standard_dev=10\n",
    "Fred=61\n",
    "Wilma=51\n",
    "Barney_z=(-0.3)\n",
    "Betty_z=0.7"
   ]
  },
  {
   "cell_type": "code",
   "execution_count": 60,
   "metadata": {},
   "outputs": [],
   "source": [
    "def z(z_score):\n",
    "    x=(z_score*standard_dev)+average\n",
    "    return x"
   ]
  },
  {
   "cell_type": "code",
   "execution_count": 61,
   "metadata": {},
   "outputs": [
    {
     "data": {
      "text/plain": [
       "52.0"
      ]
     },
     "execution_count": 61,
     "metadata": {},
     "output_type": "execute_result"
    }
   ],
   "source": [
    "# Barney\n",
    "z(-0.3)"
   ]
  },
  {
   "cell_type": "code",
   "execution_count": 62,
   "metadata": {
    "scrolled": true
   },
   "outputs": [
    {
     "data": {
      "text/plain": [
       "62.0"
      ]
     },
     "execution_count": 62,
     "metadata": {},
     "output_type": "execute_result"
    }
   ],
   "source": [
    "# Betty\n",
    "z(0.7)"
   ]
  },
  {
   "cell_type": "code",
   "execution_count": 73,
   "metadata": {},
   "outputs": [
    {
     "data": {
      "text/plain": [
       "1    51\n",
       "2    52\n",
       "0    61\n",
       "3    62\n",
       "Name: 0, dtype: int64"
      ]
     },
     "execution_count": 73,
     "metadata": {},
     "output_type": "execute_result"
    }
   ],
   "source": [
    "df=pd.DataFrame([61,51,52,62])\n",
    "df\n",
    "df[0].sort_values()"
   ]
  },
  {
   "cell_type": "markdown",
   "metadata": {},
   "source": [
    "Each year, a national achievement test is administered to 3rd graders.\n",
    "The test has a mean score of 100 and a standard deviation of 15. \n",
    "If Jane's z-score is 1.20, what was her score on the test?"
   ]
  },
  {
   "cell_type": "code",
   "execution_count": 74,
   "metadata": {},
   "outputs": [
    {
     "data": {
      "text/plain": [
       "118.0"
      ]
     },
     "execution_count": 74,
     "metadata": {},
     "output_type": "execute_result"
    }
   ],
   "source": [
    "average=100\n",
    "standard_dev=15\n",
    "jane_z=1.2\n",
    "\n",
    "z(jane_z)"
   ]
  },
  {
   "cell_type": "markdown",
   "metadata": {},
   "source": [
    "# Interpret/Find Correlation"
   ]
  },
  {
   "cell_type": "markdown",
   "metadata": {},
   "source": [
    "A national consumer magazine reported the following correlations.\n",
    "\n",
    "The correlation between car weight and car reliability is -0.30.\n",
    "The correlation between car weight and annual maintenance cost is 0.20.\n",
    "Which of the following statements are true?\n",
    "\n",
    "I. Heavier cars tend to be less reliable. \n",
    "II. Heavier cars tend to cost more to maintain. \n",
    "III. Car weight is related more strongly to reliability than to maintenance cost.\n",
    "\n",
    "(A) I only \n",
    "(B) II only \n",
    "(C) III only \n",
    "(D) I and II only \n",
    "(E) I, II, and III\n",
    "\n"
   ]
  },
  {
   "cell_type": "code",
   "execution_count": 9,
   "metadata": {},
   "outputs": [],
   "source": [
    "corr_weight_rel=-0.3\n",
    "corr_weight_maint=0.2\n",
    "\n",
    "1=yes\n",
    "2=yes\n",
    "3=yes\n",
    "\n",
    "E"
   ]
  },
  {
   "cell_type": "markdown",
   "metadata": {},
   "source": [
    "# Understanding Variables"
   ]
  },
  {
   "cell_type": "markdown",
   "metadata": {},
   "source": [
    "Suppose a researcher conducts a study to find the average height of 6th grade students. Which of the following statements are true?\n",
    "\n",
    "I. Height is a categorical variable. \n",
    "II. Height is a discrete variable. \n",
    "III. In this study, the researcher will work with univariate data.\n",
    "\n",
    "(A) I only \n",
    "(B) II only \n",
    "(C) III only \n",
    "(D) I and II \n",
    "(E) I and III"
   ]
  },
  {
   "cell_type": "code",
   "execution_count": 10,
   "metadata": {},
   "outputs": [],
   "source": [
    "#Your answer here. Explain why?"
   ]
  },
  {
   "cell_type": "code",
   "execution_count": null,
   "metadata": {},
   "outputs": [],
   "source": [
    "1=False\n",
    "2=False\n",
    "3=True\n",
    "\n",
    "S"
   ]
  }
 ],
 "metadata": {
  "kernelspec": {
   "display_name": "Python 3",
   "language": "python",
   "name": "python3"
  },
  "language_info": {
   "codemirror_mode": {
    "name": "ipython",
    "version": 3
   },
   "file_extension": ".py",
   "mimetype": "text/x-python",
   "name": "python",
   "nbconvert_exporter": "python",
   "pygments_lexer": "ipython3",
   "version": "3.7.3"
  }
 },
 "nbformat": 4,
 "nbformat_minor": 2
}
